{
 "cells": [
  {
   "cell_type": "markdown",
   "id": "dac8a10a-cbab-4cd0-85ec-dda56c5bfb8e",
   "metadata": {},
   "source": [
    "# ====== 2nd order SINDY autoencoder ====="
   ]
  },
  {
   "cell_type": "code",
   "execution_count": 46,
   "id": "3a8d3a9c-798e-4f7d-9377-e8692dcad0fe",
   "metadata": {},
   "outputs": [],
   "source": [
    "import torch\n",
    "import torch.nn as nn\n",
    "\n",
    "import numpy as np\n",
    "import matplotlib.pyplot as plt\n",
    "import os"
   ]
  },
  {
   "cell_type": "code",
   "execution_count": 47,
   "id": "d126c296-6c57-4cf8-a26e-31d0e2e6d278",
   "metadata": {},
   "outputs": [],
   "source": [
    "#Set seed for reproducibility\n",
    "def seeding(seed):\n",
    "    #random.seed(seed)\n",
    "    os.environ[\"PYTHONHASHSEED\"] = str(seed)\n",
    "    np.random.seed(seed)\n",
    "    torch.manual_seed(seed)\n",
    "    torch.cuda.manual_seed(seed)\n",
    "    torch.backends.cudnn.deterministic = True"
   ]
  },
  {
   "cell_type": "code",
   "execution_count": 48,
   "id": "557ae7cc-8e09-4ba5-8b9c-89d49bc3febb",
   "metadata": {},
   "outputs": [],
   "source": [
    "seeding(123)"
   ]
  },
  {
   "cell_type": "code",
   "execution_count": 49,
   "id": "71b97f35-3e8b-4a53-ab2b-a670634663f4",
   "metadata": {},
   "outputs": [
    {
     "name": "stdout",
     "output_type": "stream",
     "text": [
      "Using cuda device\n"
     ]
    }
   ],
   "source": [
    "# Get cpu or gpu device for training.\n",
    "device = \"cuda\" if torch.cuda.is_available() else \"cpu\"\n",
    "print(\"Using {} device\".format(device))"
   ]
  },
  {
   "cell_type": "code",
   "execution_count": 61,
   "id": "5a8598d3-a9ca-49c6-9441-1308845348e4",
   "metadata": {},
   "outputs": [],
   "source": [
    "def memory_stats():\n",
    "    print(torch.cuda.memory_allocated()/1024**2)\n",
    "    print(torch.cuda.memory_cached()/1024**2)"
   ]
  },
  {
   "cell_type": "code",
   "execution_count": 62,
   "id": "b2bbec73-3482-467c-86d9-da62f5df79af",
   "metadata": {},
   "outputs": [
    {
     "name": "stdout",
     "output_type": "stream",
     "text": [
      "19422.07568359375\n",
      "19574.0\n"
     ]
    },
    {
     "name": "stderr",
     "output_type": "stream",
     "text": [
      "/tmp/ipykernel_6054/3746055972.py:3: FutureWarning: `torch.cuda.memory_cached` has been renamed to `torch.cuda.memory_reserved`\n",
      "  print(torch.cuda.memory_cached()/1024**2)\n"
     ]
    }
   ],
   "source": [
    "# free up memory, and cuda memory\n",
    "import gc\n",
    "gc.collect()\n",
    "torch.cuda.empty_cache()\n",
    "memory_stats()"
   ]
  },
  {
   "cell_type": "markdown",
   "id": "79e48a54-b01a-43a9-9b92-2ac58be9adad",
   "metadata": {},
   "source": [
    "## Load data"
   ]
  },
  {
   "cell_type": "code",
   "execution_count": 56,
   "id": "9dae9891-d4aa-4a7f-902e-58e8f2088c5e",
   "metadata": {},
   "outputs": [
    {
     "data": {
      "text/plain": [
       "((150, 500, 101, 101), (150, 500, 101, 101), (150, 500, 101, 101))"
      ]
     },
     "execution_count": 56,
     "metadata": {},
     "output_type": "execute_result"
    }
   ],
   "source": [
    "X = np.load(os.getcwd()+'/simulations/X.npy')\n",
    "Xdot = np.load(os.getcwd()+'/simulations/Xdot.npy')\n",
    "Xddot = np.load(os.getcwd()+'/simulations/Xddot.npy')\n",
    "X.shape, Xdot.shape, Xddot.shape"
   ]
  },
  {
   "cell_type": "code",
   "execution_count": 57,
   "id": "01e27881-371b-418d-9c97-64881d8546ed",
   "metadata": {},
   "outputs": [
    {
     "data": {
      "text/plain": [
       "(150, 500)"
      ]
     },
     "execution_count": 57,
     "metadata": {},
     "output_type": "execute_result"
    }
   ],
   "source": [
    "# Load true angle values.\n",
    "# These labels are not used in training, just to compare with atent space\n",
    "Y = np.load(os.getcwd()+'/simulations/Y.npy')\n",
    "Y.shape"
   ]
  },
  {
   "cell_type": "code",
   "execution_count": 58,
   "id": "8681609e-66d4-405d-836d-c3c54e603eb3",
   "metadata": {},
   "outputs": [
    {
     "data": {
      "image/png": "[encoded data removed]",
      "text/plain": [
       "<Figure size 700x700 with 3 Axes>"
      ]
     },
     "metadata": {},
     "output_type": "display_data"
    }
   ],
   "source": [
    "simul = 25\n",
    "tstep = 123\n",
    "fig = plt.figure(figsize=(7,7))\n",
    "plt.subplot(1,3,1)\n",
    "plt.imshow(X[simul,tstep],cmap='grey')\n",
    "plt.title(f'X:{Y[simul,tstep]:0.2f}')\n",
    "plt.subplot(1,3,2)\n",
    "plt.imshow(Xdot[simul,tstep],cmap='grey')\n",
    "plt.title('Xdot')\n",
    "plt.subplot(1,3,3)\n",
    "plt.imshow(Xddot[simul,tstep],cmap='grey')\n",
    "plt.title('Xddot')\n",
    "plt.tight_layout()"
   ]
  },
  {
   "cell_type": "code",
   "execution_count": 59,
   "id": "d66fefe3-12d8-402a-86fc-84bf70eb3924",
   "metadata": {},
   "outputs": [
    {
     "ename": "OutOfMemoryError",
     "evalue": "HIP out of memory. Tried to allocate 2.85 GiB. GPU 0 has a total capacity of 19.98 GiB of which 516.00 MiB is free. Of the allocated memory 18.97 GiB is allocated by PyTorch, and 151.92 MiB is reserved by PyTorch but unallocated. If reserved but unallocated memory is large try setting PYTORCH_HIP_ALLOC_CONF=expandable_segments:True to avoid fragmentation.  See documentation for Memory Management  (https://pytorch.org/docs/stable/notes/cuda.html#environment-variables)",
     "output_type": "error",
     "traceback": [
      "\u001b[0;31m---------------------------------------------------------------------------\u001b[0m",
      "\u001b[0;31mOutOfMemoryError\u001b[0m                          Traceback (most recent call last)",
      "Cell \u001b[0;32mIn[59], line 2\u001b[0m\n\u001b[1;32m      1\u001b[0m \u001b[38;5;66;03m# Create reshaped tensors\u001b[39;00m\n\u001b[0;32m----> 2\u001b[0m X_data \u001b[38;5;241m=\u001b[39m \u001b[43mtorch\u001b[49m\u001b[38;5;241;43m.\u001b[39;49m\u001b[43mtensor\u001b[49m\u001b[43m(\u001b[49m\u001b[43mX\u001b[49m\u001b[38;5;241;43m.\u001b[39;49m\u001b[43mreshape\u001b[49m\u001b[43m(\u001b[49m\u001b[43m(\u001b[49m\u001b[43mX\u001b[49m\u001b[38;5;241;43m.\u001b[39;49m\u001b[43mshape\u001b[49m\u001b[43m[\u001b[49m\u001b[38;5;241;43m0\u001b[39;49m\u001b[43m]\u001b[49m\u001b[38;5;241;43m*\u001b[39;49m\u001b[43mX\u001b[49m\u001b[38;5;241;43m.\u001b[39;49m\u001b[43mshape\u001b[49m\u001b[43m[\u001b[49m\u001b[38;5;241;43m1\u001b[39;49m\u001b[43m]\u001b[49m\u001b[43m,\u001b[49m\u001b[43mX\u001b[49m\u001b[38;5;241;43m.\u001b[39;49m\u001b[43mshape\u001b[49m\u001b[43m[\u001b[49m\u001b[38;5;241;43m2\u001b[39;49m\u001b[43m]\u001b[49m\u001b[38;5;241;43m*\u001b[39;49m\u001b[43mX\u001b[49m\u001b[38;5;241;43m.\u001b[39;49m\u001b[43mshape\u001b[49m\u001b[43m[\u001b[49m\u001b[38;5;241;43m3\u001b[39;49m\u001b[43m]\u001b[49m\u001b[43m)\u001b[49m\u001b[43m)\u001b[49m\u001b[43m)\u001b[49m\u001b[38;5;241;43m.\u001b[39;49m\u001b[43mto\u001b[49m\u001b[43m(\u001b[49m\u001b[43mdevice\u001b[49m\u001b[43m)\u001b[49m\n\u001b[1;32m      3\u001b[0m Xdot_data \u001b[38;5;241m=\u001b[39m torch\u001b[38;5;241m.\u001b[39mtensor(Xdot\u001b[38;5;241m.\u001b[39mreshape((Xdot\u001b[38;5;241m.\u001b[39mshape[\u001b[38;5;241m0\u001b[39m]\u001b[38;5;241m*\u001b[39mXdot\u001b[38;5;241m.\u001b[39mshape[\u001b[38;5;241m1\u001b[39m],Xdot\u001b[38;5;241m.\u001b[39mshape[\u001b[38;5;241m2\u001b[39m]\u001b[38;5;241m*\u001b[39mXdot\u001b[38;5;241m.\u001b[39mshape[\u001b[38;5;241m3\u001b[39m])))\u001b[38;5;241m.\u001b[39mto(device)\n\u001b[1;32m      4\u001b[0m Xddot_data \u001b[38;5;241m=\u001b[39m torch\u001b[38;5;241m.\u001b[39mtensor(Xddot\u001b[38;5;241m.\u001b[39mreshape((Xddot\u001b[38;5;241m.\u001b[39mshape[\u001b[38;5;241m0\u001b[39m]\u001b[38;5;241m*\u001b[39mXddot\u001b[38;5;241m.\u001b[39mshape[\u001b[38;5;241m1\u001b[39m],Xddot\u001b[38;5;241m.\u001b[39mshape[\u001b[38;5;241m2\u001b[39m]\u001b[38;5;241m*\u001b[39mXddot\u001b[38;5;241m.\u001b[39mshape[\u001b[38;5;241m3\u001b[39m])))\u001b[38;5;241m.\u001b[39mto(device)\n",
      "\u001b[0;31mOutOfMemoryError\u001b[0m: HIP out of memory. Tried to allocate 2.85 GiB. GPU 0 has a total capacity of 19.98 GiB of which 516.00 MiB is free. Of the allocated memory 18.97 GiB is allocated by PyTorch, and 151.92 MiB is reserved by PyTorch but unallocated. If reserved but unallocated memory is large try setting PYTORCH_HIP_ALLOC_CONF=expandable_segments:True to avoid fragmentation.  See documentation for Memory Management  (https://pytorch.org/docs/stable/notes/cuda.html#environment-variables)"
     ]
    }
   ],
   "source": [
    "# Create reshaped tensors\n",
    "X_data = torch.tensor(X.reshape((X.shape[0]*X.shape[1],X.shape[2]*X.shape[3]))).to(device)\n",
    "Xdot_data = torch.tensor(Xdot.reshape((Xdot.shape[0]*Xdot.shape[1],Xdot.shape[2]*Xdot.shape[3]))).to(device)\n",
    "Xddot_data = torch.tensor(Xddot.reshape((Xddot.shape[0]*Xddot.shape[1],Xddot.shape[2]*Xddot.shape[3]))).to(device)\n",
    "X_data.shape, Xdot_data.shape, Xddot_data.shape"
   ]
  },
  {
   "cell_type": "code",
   "execution_count": null,
   "id": "e2a3146a-4f76-483b-87c0-75ad779a4d1c",
   "metadata": {},
   "outputs": [],
   "source": [
    "Y_data = torch.tensor(Y.reshape((Y.shape[0]*Y.shape[1]))).to(device)\n",
    "Y_data.shape"
   ]
  },
  {
   "cell_type": "code",
   "execution_count": null,
   "id": "018b0c62-0b78-44b8-b86b-35b188aadca4",
   "metadata": {},
   "outputs": [],
   "source": [
    "from torch.utils.data import TensorDataset, DataLoader, random_split\n",
    "\n",
    "# Create datasets\n",
    "train_dataset, test_dataset = random_split(TensorDataset(X_data, Xdot_data, Xddot_data, Y_data), [0.8, 0.2],\n",
    "                                           generator=torch.Generator().manual_seed(123))"
   ]
  },
  {
   "cell_type": "code",
   "execution_count": null,
   "id": "1db0a080-60dd-4703-bea4-fbcf12fcf401",
   "metadata": {},
   "outputs": [],
   "source": [
    "# Create dataloaders\n",
    "batch_size_train = 64\n",
    "batch_size_test = 500\n",
    "\n",
    "train_loader = DataLoader(train_dataset, batch_size=batch_size_train, shuffle=True)\n",
    "test_loader = DataLoader(test_dataset, batch_size=batch_size_test, shuffle=True)"
   ]
  },
  {
   "cell_type": "code",
   "execution_count": null,
   "id": "7afb96f1-fbf8-4a58-a69e-845792e6daae",
   "metadata": {},
   "outputs": [],
   "source": [
    "xn_val = 0\n",
    "xddn_val = 0\n",
    "for (b_x, _, b_xddot, _) in train_dataset:\n",
    "    xn_val += torch.linalg.vector_norm(b_x)\n",
    "    xddn_val += torch.linalg.vector_norm(b_xddot)\n",
    "l1_val = xn_val/xddn_val\n",
    "l1_val"
   ]
  },
  {
   "cell_type": "markdown",
   "id": "5582b8fc-8e29-40a7-b71d-8a288fae4152",
   "metadata": {},
   "source": [
    "## Autoencoder network\n",
    "![](autoencoder.png)\n",
    "\n",
    "The autoencoder network is composed by two functions, an encoder function $\\varphi$, and a decoder function $\\psi$, so that\n",
    "$$\\mathbf{z}(t)=\\varphi(\\mathbf{x}(t)),$$\n",
    "$$\\hat{\\mathbf{x}}(t)=\\psi(\\mathbf{z}(t)).$$\n",
    "\n",
    "There are $n$ samples of the input of dimension $m$, so that it can be stored in a matrix\n",
    "$$\\mathbf{X}=\\left[\\begin{array}{cccc}x_1(t_1)&x_2(t_1)&\\cdots&x_m(t_1)\\\\x_1(t_2)&x_2(t_2)&\\cdots&x_m(t_2)\\\\\\vdots&\\vdots&\\ddots&\\vdots\\\\x_1(t_n)&x_2(t_n)&\\cdots&x_m(t_n)\\\\\\end{array}\\right]=\\left[\\begin{array}{c}\\mathbf{x}(t_1)\\\\\\mathbf{x}(t_2)\\\\\\vdots\\\\\\mathbf{x}(t_n)\\end{array}\\right].$$\n",
    "\n",
    "It is important to note that here $t_i$ identifies the sample, not the time at which it was taken, and thus it does not folow a chronological order. The time enters into the problem by the relation of $\\mathbf{X}$ and its time derivatives.  \n",
    "\n",
    "In the same way, the latent space of dimension $k$ can be cast into a matrix form\n",
    "$$\\mathbf{Z}=\\left[\\begin{array}{cccc}z_1(t_1)&z_2(t_1)&\\cdots&z_k(t_1)\\\\z_1(t_2)&z_2(t_2)&\\cdots&z_k(t_2)\\\\\\vdots&\\vdots&\\ddots&\\vdots\\\\z_1(t_n)&z_2(t_n)&\\cdots&z_k(t_n)\\\\\\end{array}\\right]=\\left[\\begin{array}{c}\\mathbf{z}(t_1)\\\\\\mathbf{z}(t_2)\\\\\\vdots\\\\\\mathbf{z}(t_n)\\end{array}\\right].$$"
   ]
  },
  {
   "cell_type": "markdown",
   "id": "e52a6e2d-a395-4fbe-8483-0694581dd8b1",
   "metadata": {},
   "source": [
    "## SINDy\n",
    "\n",
    "While the autoencoder is concerned with the dimensionality reduction from the input to the latent space, the model (diferential equation) in that latent space is fitted by means of the SINDy (sparse identification of nonlinear dynamics) algorithm. 2nd order SINDy assumes that the dynamics for the latent space variables is described by\n",
    "$$\\ddot{\\mathbf{z}}(t)=\\epsilon_0+\\sum_{i=1}^N\\epsilon_if_i(\\mathbf{z},\\dot{\\mathbf{z}};t),$$\n",
    "\n",
    "where the $f_i$ are a set of $N$ base functions of $\\mathbf{z}$ and $\\dot{\\mathbf{z}}$ called the SINDy library, and $\\epsilon_i=[\\varepsilon_{i,1},\\varepsilon_{i,2},\\cdots,\\varepsilon_{i,k}]$, $0\\leq i\\leq N$, are the weights associated with each function $f_i$ for each of the variables $z_j$. The idea behind SINDy is that most of the $\\varepsilon_{i,j}$ weights will tend to zero during the training of the model, so as to produce a sparse model. The resulting system of differential equations can be cast in a matrix form as\n",
    "$$\\ddot{\\mathbf{Z}}=\\left[\\begin{array}{cccc}1&f_1(t_1)&\\cdots&f_N(t_1)\\\\1&f_1(t_2)&\\cdots&f_N(t_2)\\\\\\vdots&\\vdots&\\ddots&\\vdots\\\\1&f_1(t_n)&\\cdots&f_N(t_n)\\end{array}\\right]\\left[\\begin{array}{cccc}\\varepsilon_{01}&\\varepsilon_{02}&\\cdots&\\varepsilon_{0k}\\\\\\varepsilon_{11}&\\varepsilon_{12}&\\cdots&\\varepsilon_{1k}\\\\\\vdots&\\vdots&\\ddots&\\vdots\\\\\\varepsilon_{N1}&\\varepsilon_{N2}&\\cdots&\\varepsilon_{Nk}\\end{array}\\right]=\\Theta(\\mathbf{Z},\\dot{\\mathbf{Z}})\\ \\Xi.$$\n",
    "\n",
    "#### Example\n",
    "For example, say we decide for the latent space to be of dimension $k=2$, and we create a SINDy library composed by the functions $f_1(\\mathbf{z},\\dot{\\mathbf{z}})=z_1$, $f_2(\\mathbf{z},\\dot{\\mathbf{z}})=z_2$, $f_3(\\mathbf{z},\\dot{\\mathbf{z}})=\\dot{z}_1$, $f_4(\\mathbf{z},\\dot{\\mathbf{z}})=\\dot{z}_2$, $f_5(\\mathbf{z},\\dot{\\mathbf{z}})=z_1^2$, $f_6(\\mathbf{z},\\dot{\\mathbf{z}})=z_2^2$, and $f_7(\\mathbf{z},\\dot{\\mathbf{z}})=z_1z_2$. Imagine that by the end of the training process the coefficients take the values\n",
    "\n",
    "$$\\left[\\begin{array}{cc}\\varepsilon_{01}&\\varepsilon_{02}\\\\\\varepsilon_{11}&\\varepsilon_{12}\\\\\\varepsilon_{21}&\\varepsilon_{22}\\\\\\varepsilon_{31}&\\varepsilon_{32}\\\\\\varepsilon_{41}&\\varepsilon_{42}\\\\\\varepsilon_{51}&\\varepsilon_{52}\\\\\\varepsilon_{61}&\\varepsilon_{62}\\\\\\varepsilon_{71}&\\varepsilon_{72}\\end{array}\\right]=\\left[\\begin{array}{cc}0&1\\\\1&0\\\\0&0\\\\0&1\\\\0&0\\\\1&0\\\\0&1\\\\0&1\\end{array}\\right],$$\n",
    "then the resulting dynamic equations would be\n",
    "$$\\ddot{z}_1=z_1+z_1^2,$$\n",
    "$$\\ddot{z}_2=1+\\dot{z}_1+z_2^2+z_1z_2.$$"
   ]
  },
  {
   "cell_type": "markdown",
   "id": "0d5f54dd-32a3-410e-aaca-0fead01af2f7",
   "metadata": {},
   "source": [
    "## Training\n",
    "\n",
    "Training the model is a regression process thet requires de defintion of a loss function which has to be minimized. The loss function for the SINDy autoencoder is composed of four terms. The first term, reconstruction loss, is the typical mean square function for an autoencoder:\n",
    "$$J_0=\\|\\mathbf{x}-\\hat{\\mathbf{x}}\\|_2^2.$$\n",
    "The second term enforces the convergence of the second derivative for the input\n",
    "$$J_1=\\|\\ddot{\\mathbf{x}}-\\ddot{\\hat{\\mathbf{x}}}\\|_2^2.$$\n",
    "The third term enforces the dynamical equation for the latent space\n",
    "$$J_2=\\|\\ddot{\\mathbf{z}}-\\Theta(\\mathbf{z},\\dot{\\mathbf{z}})\\Xi\\|_2^2.$$\n",
    "And the last term is a regularization that promtes sparsity for the SINDy coefficients\n",
    "$$J_3=\\|\\Xi\\|_1.$$\n",
    "The total loss function is then\n",
    "$$J=J_0+\\lambda_1J_1+\\lambda_2J_2+\\lambda_3J_3,$$\n",
    "where the $\\lambda_i$ are hyperparameters of the trainig process.\n",
    "\n",
    "Let $\\mathbf{W}_i$ be the weight matrices of the layers in the network, and $\\mathbf{b}_i$ be the bias. We compute the function $$\\varphi(\\mathbf{x})=\\mathbf{W}_{L-1}\\mathbf{a}_{L-1}+\\mathbf{b}_{L-1},$$\n",
    "where $L$ is the number of layers of the encoder/decoder,\n",
    "$$\\mathbf{a}_i=h(\\zeta_{i-1}),\\ \\zeta_{i}=\\mathbf{W}_{i}\\mathbf{a}_i+\\mathbf{b}_i,$$\n",
    "and $h(\\zeta)$ is the activation function. To compute $\\varphi$ we iterate over the layers of the network and obtain all $\\mathbf{a}_i$'s we iterate over the layers\n",
    "$$\\mathbf{a}_1=h(\\mathbf{W}_{0}\\mathbf{x}+\\mathbf{b}_0)$$\n",
    "$$\\vdots$$\n",
    "$$\\mathbf{a}_i=h(\\mathbf{W}_{i-1}\\mathbf{a}_{i-1}+\\mathbf{b}_{i-1})$$\n",
    "$$\\vdots$$\n",
    "$$\\varphi(\\mathbf{x})=\\mathbf{W}_{L-1}\\mathbf{a}_{L-1}+\\mathbf{b}_{L-1}.$$\n",
    "\n",
    "In order to minimize the loss function the gradient descent algorithm is used. This requires for us to obtain the gradient of the loss function with respect to all of the coefficients, including the network weights and SINDy coefficients.\\\n",
    "t\\ddot{\\mathbf{x}}$$"
   ]
  },
  {
   "cell_type": "markdown",
   "id": "acb7ac2f-9bce-470b-85e4-09c87608ae6f",
   "metadata": {},
   "source": [
    "In addition, to obtain the time derivatives $\\ddot{\\hat{\\mathbf{x}}}$ and $\\ddot{\\mathbf{z}}$, which are required to compute the loss function, we will need to compute gradients with respect to these variables, as the time derivative of $\\varphi$ is\n",
    "$$\\frac{d\\varphi}{dt}(\\mathbf{x})=\\nabla_{\\mathbf{x}}\\varphi(\\mathbf{x})\\cdot\\dot{\\mathbf{x}}=\\mathbf{W}_{L-1}\\frac{d\\mathbf{a}_{L-1}}{dt}$$\n",
    "which, in the case where $h$ is the sigmoid function, is calculated as\n",
    "$$\\dot{\\mathbf{a}}_1=\\mathbf{a}_1(1-\\mathbf{a}_1)\\mathbf{W}_0\\dot{\\mathbf{x}}$$\n",
    "$$\\vdots$$\n",
    "$$\\dot{\\mathbf{a}}_i=\\mathbf{a}_i(1-\\mathbf{a}_i)\\mathbf{W}_{i-1}\\dot{\\mathbf{a}}_{i-1}$$\n",
    "$$\\vdots$$\n",
    "$$\\frac{d\\varphi}{dt}=\\mathbf{W}_{L-1}\\dot{\\mathbf{a}}_{L-1}.$$\n",
    "\n",
    "The 2nd time derivative is\n",
    "$$\\frac{d^2\\varphi}{dt^2}(\\mathbf{x})=\\nabla_{\\mathbf{x}}\\left(\\nabla_{\\mathbf{x}}\\varphi(\\mathbf{x})\\cdot\\dot{\\mathbf{x}}\\right)\\cdot\\dot{\\mathbf{x}}+\\nabla_{\\mathbf{x}}\\varphi(\\mathbf{x})\\cdot\\ddot{\\mathbf{x}}=\\mathbf{W}_{L-1}\\frac{d\\dot{\\mathbf{a}}_{L-1}}{dt},$$\n",
    "which in the case $h$ is the logistic function, is calculated as\n",
    "$$\\ddot{\\mathbf{a}}_1=(2\\mathbf{a}_1^3-3\\mathbf{a}_1^2+\\mathbf{a}_1)\\mathbf{W}_0\\dot{\\mathbf{x}}\\mathbf{W}_0\\dot{\\mathbf{x}}+\\mathbf{a}_1(1-\\mathbf{a}_1)\\mathbf{W}_0\\ddot{\\mathbf{x}}$$\n",
    "$$\\vdots$$\n",
    "$$\\ddot{\\mathbf{a}}_i=(2\\mathbf{a}_i^3-3\\mathbf{a}_i^2+\\mathbf{a}_i)\\mathbf{W}_{i-1}\\dot{\\mathbf{a}}_{i-1}\\mathbf{W}_{i-1}\\dot{\\mathbf{a}}_{i-1}+\\mathbf{a}_i(1-\\mathbf{a}_i)\\mathbf{W}_{i-1}\\ddot{\\mathbf{a}}_{i-1}$$\n",
    "$$\\vdots$$\n",
    "$$\\frac{d^2\\varphi}{dt^2}=\\mathbf{W}_{L-1}\\ddot{\\mathbf{a}}_{L-1}.$$\n",
    "\n",
    "The case of the decoder function $\\psi(\\mathbf{z})$ is similar, save for the last layer, which applies the sigmoid function. Therefore\n",
    "$$\\psi(\\mathbf{z})=h(\\mathbf{W}_{L-1}\\mathbf{a}_{L-1}+\\mathbf{b}_{L-1}),$$\n",
    "$$\\frac{d\\psi}{dt}=\\dot{\\mathbf{a}}_{L-1}(1-\\dot{\\mathbf{a}}_{L-1})\\mathbf{W}_{L-2}\\dot{\\mathbf{a}}_{L-2},$$\n",
    "$$\\frac{d^2\\psi}{dt^2}=(2\\mathbf{a}_{L-1}^3-3\\mathbf{a}_{L-1}^2+\\mathbf{a}_{L-1})\\mathbf{W}_{L-2}\\dot{\\mathbf{a}}_{L-2}\\mathbf{W}_{L-2}\\dot{\\mathbf{a}}_{L-2}+\\mathbf{a}_{L-1}(1-\\mathbf{a}_{L-1})\\mathbf{W}_{L-2}\\ddot{\\mathbf{a}}_{L-2}.$$"
   ]
  },
  {
   "cell_type": "markdown",
   "id": "24678560-abbc-4cc3-9a0d-67e2e0ddcb73",
   "metadata": {},
   "source": [
    "#### Sequential thresholding\n",
    "To promote sparsity in the weights that multiply the SINDy library, a mask is multiplied by this weight matrix. When one of the wheigts goes below certain threshold, the corresponding element in the mask goes from 1 to 0."
   ]
  },
  {
   "cell_type": "markdown",
   "id": "2e75cb38-9484-454b-8b5b-e5243445270d",
   "metadata": {},
   "source": [
    "The dimension of the latent space will be chosen as 1, because the simple pendulum has a single degree of freedom. In a general case where this is not known a priory, the authors of the original paper suggest first training a standard autoencoder without the associated SINDy model to determine the minimum number of coordinates necessary to reproduce the input data."
   ]
  },
  {
   "cell_type": "markdown",
   "id": "e2213bc5-3f51-41f0-a952-1bc5540ddae8",
   "metadata": {},
   "source": [
    "The SINDy library will be composed of the following functions: $1$, $\\mathbf{z}$, $\\mathbf{z}^2$, $\\mathbf{z}^3$, $\\sin(\\mathbf{z})$, $\\cos(\\mathbf{z})$, $\\dot{\\mathbf{z}}$, $\\dot{\\mathbf{z}}^2$, $\\dot{\\mathbf{z}}^3$, and $\\mathbf{z}\\dot{\\mathbf{z}}$. \n",
    "\n",
    "Encoder:\\\n",
    "2601 => 1200 => 600 => 200 => 80 => 10 => 1  \n",
    "\n",
    "Decoder:\\\n",
    "1 => 10 => 80 => 200 => 600 => 1200 => 2601"
   ]
  },
  {
   "cell_type": "markdown",
   "id": "bd372b74-a83e-4661-9cf5-de02f7d9c20c",
   "metadata": {},
   "source": [
    "To choose hyperparameter $\\lambda_1$, the authors suggest to use $\\sum_i^m\\|x_i\\|_2^2/\\sum_i^m\\|\\ddot{x}_i\\|_2^2$. They suggest $\\lambda_2$ to be two orders of magnitude less than $\\lambda_1$. $\\lambda_3$ should be shosen to acheive the desired level of sparsity in the SINDy coefficients."
   ]
  },
  {
   "cell_type": "code",
   "execution_count": null,
   "id": "f0c43175-c008-4a1e-8f16-53a8f7bcabb5",
   "metadata": {},
   "outputs": [],
   "source": [
    "#PARAMETERS\n",
    "epochs = 50\n",
    "log_interval = 100\n",
    "\n",
    "learn_rate = 1.e-5\n",
    "lambda1 = 0.#l1_val*0.9\n",
    "lambda2 = 0.#lambda1/100\n",
    "lambda3 = 0.#1.e-3\n",
    "thresh = 0.01"
   ]
  },
  {
   "cell_type": "code",
   "execution_count": null,
   "id": "c006b605-d954-4af8-b22a-6ebaf0ae120d",
   "metadata": {},
   "outputs": [],
   "source": [
    "# free up memory, and cuda memory\n",
    "import gc\n",
    "gc.collect()\n",
    "torch.cuda.empty_cache()"
   ]
  },
  {
   "cell_type": "code",
   "execution_count": null,
   "id": "81d8b1ef-6815-4d58-b13a-331ec82bf6fa",
   "metadata": {},
   "outputs": [],
   "source": [
    "from autoencoder.sindy_autoencoder import SindyAutoEncoder "
   ]
  },
  {
   "cell_type": "code",
   "execution_count": null,
   "id": "2f2457be-d2aa-4357-8827-087af0b7212e",
   "metadata": {},
   "outputs": [],
   "source": [
    "# Instantiate model (last layer size must be=1)\n",
    "model = SindyAutoEncoder(layer_sizes=[10201,6200,3000,1000,500,100,10,1]).to(device)\n",
    "\n",
    "# Adam optimizer\n",
    "optimizer = torch.optim.Adam(model.parameters(),\n",
    "                             lr=learn_rate,\n",
    "                             amsgrad=True,\n",
    "                             weight_decay=1.e-8)\n",
    "\n",
    "train_losses = []\n",
    "train_counter = []\n",
    "test_losses = []\n",
    "test_counter = [i*len(train_loader.dataset) for i in range(epochs + 1)]\n",
    "sindy_weights = []\n",
    "latent = []\n",
    "theta = []"
   ]
  },
  {
   "cell_type": "code",
   "execution_count": null,
   "id": "3bed1bc5-d9c5-4c92-88b8-f9434229bc36",
   "metadata": {},
   "outputs": [],
   "source": [
    "# Model trainer\n",
    "def train(epoch, loss0, loss1, loss2, lambda1, lambda2, lambda3, thresh):\n",
    "    model.train()\n",
    "    for batch_idx, (batch_x, batch_xdot, batch_xddot, batch_y) in enumerate(train_loader):\n",
    "        #Forward pass through the network\n",
    "        x_hat = model(batch_x)\n",
    "        \n",
    "        #Reconstruction loss (J_0)\n",
    "        J0 = loss0(x_hat, batch_x)\n",
    "\n",
    "        #Zddot loss (J_2)\n",
    "        z, zdot, zddot = model.tderiv_encoder(batch_x, batch_xdot, batch_xddot)\n",
    "        sindy_lib = model.sindy_library(z, zdot) \n",
    "        zddot_hat = model.sindy(sindy_lib)\n",
    "        J2 = loss2(zddot_hat, zddot)\n",
    "\n",
    "        #Regularization loss (J_3)\n",
    "        J3 = torch.sum(torch.abs(model.sindy.weight))\n",
    "\n",
    "        #Xddot loss (J_1)\n",
    "        x, xdot, xddot = model.tderiv_decoder(z, zdot, zddot)\n",
    "        J1 = loss1(xddot, batch_xddot)\n",
    "\n",
    "        #Total loss\n",
    "        loss = J0 + lambda1*J1 + lambda2*J2 + lambda3*J3\n",
    "\n",
    "        #Optimize\n",
    "        optimizer.zero_grad()\n",
    "        loss.backward()\n",
    "        optimizer.step()\n",
    "        \n",
    "        #Thresholding\n",
    "        for i in range(model.sindy.weight.shape[1]):\n",
    "            if model.sindy.weight[0,i] < thresh:\n",
    "                model.mask[0,i] = 0\n",
    "        with torch.no_grad():\n",
    "            model.sindy.weight *= model.mask\n",
    "        \n",
    "        if batch_idx%log_interval == 0:\n",
    "            print('Train Epoch: {} [{}/{} ({:.0f}%)]\\tLoss: {:.6f}'.format(\n",
    "                epoch, batch_idx*len(batch_x), len(train_loader.dataset),\n",
    "                100.*batch_idx/len(train_loader), loss.item()\n",
    "            ))\n",
    "            train_losses.append(loss.item())\n",
    "            train_counter.append(batch_idx*batch_size_train + epoch*len(train_loader.dataset))\n",
    "            #Keep track of sundy weights\n",
    "            sindy_weights.append(model.sindy.weight.cpu().detach().numpy())\n",
    "            #Value of the latent space z, and the true value theta\n",
    "            latent.append(z.cpu().detach().numpy())\n",
    "            theta.append(batch_y.cpu().detach().numpy())\n",
    "\n",
    "# Model evaluation\n",
    "def test(loss0, loss1, loss2, lambda1, lambda2, lambda3):\n",
    "    model.eval()\n",
    "    test_loss = 0\n",
    "    with torch.no_grad():\n",
    "        for batch_x, batch_xdot, batch_xddot, _ in test_loader:\n",
    "            x_hat = model(batch_x)\n",
    "            J0 = loss0(x_hat, batch_x)\n",
    "            \n",
    "            z, zdot, zddot = model.tderiv_encoder(batch_x, batch_xdot, batch_xddot)\n",
    "            sindy_lib = model.sindy_library(z, zdot) \n",
    "            zddot_hat = model.sindy(sindy_lib)\n",
    "            J2 = loss2(zddot_hat, zddot)\n",
    "            \n",
    "            J3 = torch.sum(torch.abs(model.sindy.weight))\n",
    "            \n",
    "            x, xdot, xddot = model.tderiv_decoder(z, zdot, zddot)\n",
    "            J1 = loss1(xddot, batch_xddot)\n",
    "            \n",
    "            loss = J0 + lambda1*J1 + lambda2*J2 + lambda3*J3\n",
    "            test_loss += loss.item()\n",
    "    test_loss /= len(test_loader)\n",
    "    test_losses.append(test_loss)\n",
    "    print('\\nTest set: Avg. loss: {:.4f}'.format(test_loss,))  "
   ]
  },
  {
   "cell_type": "code",
   "execution_count": null,
   "id": "04bf5f9f-8fb3-43ff-91c0-f399c7100646",
   "metadata": {},
   "outputs": [],
   "source": [
    "with torch.no_grad():\n",
    "    img_batch = next(iter(test_loader))"
   ]
  },
  {
   "cell_type": "code",
   "execution_count": null,
   "id": "c0e0718c-c8a8-4337-aa64-899b043886a5",
   "metadata": {},
   "outputs": [],
   "source": [
    "def show_img():\n",
    "    with torch.no_grad():\n",
    "        img = img_batch[0]\n",
    "        print(img.shape)\n",
    "        reconst = model(img)\n",
    "        img = img.cpu().detach()\n",
    "        reconst = reconst.cpu().detach()\n",
    "        fig = plt.figure(figsize=(6,6))\n",
    "        ax = fig.add_subplot(1,2,1)\n",
    "        ax.imshow(img[0].reshape((51,51)), cmap='grey')\n",
    "        plt.title('Input')\n",
    "        #plt.grid(None)\n",
    "        ax = fig.add_subplot(1,2,2)\n",
    "        ax.imshow(reconst[0].reshape((51,51)), cmap='grey')\n",
    "        plt.title('Reconstruction')\n",
    "        #plt.grid(None)"
   ]
  },
  {
   "cell_type": "code",
   "execution_count": null,
   "id": "70029124-2d77-4f9b-ae3e-c4a8e9f543c1",
   "metadata": {},
   "outputs": [],
   "source": [
    "loss0 = nn.MSELoss()\n",
    "loss1 = nn.MSELoss()\n",
    "loss2 = nn.MSELoss()"
   ]
  },
  {
   "cell_type": "code",
   "execution_count": null,
   "id": "f06263bb-dc6d-4f23-b76a-8983b778bcbe",
   "metadata": {
    "scrolled": true
   },
   "outputs": [],
   "source": [
    "Nimshow = 5 #batch_size_test\n",
    "\n",
    "test(loss0, loss1, loss2, lambda1, lambda2, lambda3)\n",
    "for epoch in range(epochs):\n",
    "    train(epoch, loss0, loss1, loss2, lambda1, lambda2, lambda3, thresh)\n",
    "    test(loss0, loss1, loss2, lambda1, lambda2, lambda3)\n",
    "    if epoch%Nimshow==0:\n",
    "        print(\"Show img\")\n",
    "        show_img()"
   ]
  },
  {
   "cell_type": "code",
   "execution_count": null,
   "id": "5cd86a01-7ee2-4fe3-acfb-296f6bdca789",
   "metadata": {},
   "outputs": [],
   "source": [
    "show_img()"
   ]
  },
  {
   "cell_type": "code",
   "execution_count": null,
   "id": "4de9e348-8426-4beb-9329-5ef6dcec30b9",
   "metadata": {},
   "outputs": [],
   "source": [
    "#Export model\n",
    "torch.save(model, 'model.pt')"
   ]
  },
  {
   "cell_type": "code",
   "execution_count": null,
   "id": "b55a9760-cf2f-4b6f-af13-643433e8adec",
   "metadata": {},
   "outputs": [],
   "source": [
    "z = np.array(latent)\n",
    "z = z.reshape(z.shape[0],z.shape[1])\n",
    "T = np.array(theta)\n",
    "z.shape, T.shape"
   ]
  },
  {
   "cell_type": "code",
   "execution_count": null,
   "id": "66ae599b-6b13-4272-aa79-c2889f53fe4f",
   "metadata": {},
   "outputs": [],
   "source": [
    "#Save training data\n",
    "with open('train_data/train_losses.dat', 'w') as f:\n",
    "    for i, val in zip(train_counter, train_losses):\n",
    "        f.write(f'{i} {val}\\n')\n",
    "\n",
    "with open('train_data/test_losses.dat', 'w') as f:\n",
    "    for i, val in zip(test_counter, test_losses):\n",
    "        f.write(f'{i} {val}\\n')\n",
    "\n",
    "sindy_weights = np.array(sindy_weights)\n",
    "sindy_w = sindy_weights.reshape(sindy_weights.shape[0],10)\n",
    "with open('train_data/sindy_weights.dat', 'w') as f:\n",
    "    for i in range(len(train_counter)):\n",
    "        f.write(f'{train_counter[i]} ')\n",
    "        for j in range(10):\n",
    "            f.write(f'{sindy_w[i][j]} ')\n",
    "        f.write('\\n')\n",
    "    \n",
    "# z = np.array(latent)\n",
    "# z = z.reshape(z.shape[0],z.shape[1])\n",
    "# T = np.array(theta)\n",
    "# with open('train_data/latent_vs_theta.dat', 'w') as f:\n",
    "#     for i, valz, valT in zip(train_counter, z, T):\n",
    "#         f.write(f'{i} {valz} {valT}\\n')"
   ]
  }
 ],
 "metadata": {
  "kernelspec": {
   "display_name": "Python 3 (ipykernel)",
   "language": "python",
   "name": "python3"
  },
  "language_info": {
   "codemirror_mode": {
    "name": "ipython",
    "version": 3
   },
   "file_extension": ".py",
   "mimetype": "text/x-python",
   "name": "python",
   "nbconvert_exporter": "python",
   "pygments_lexer": "ipython3",
   "version": "3.12.3"
  }
 },
 "nbformat": 4,
 "nbformat_minor": 5
}
